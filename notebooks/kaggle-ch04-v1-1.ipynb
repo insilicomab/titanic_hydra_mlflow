{
 "cells": [
  {
   "cell_type": "markdown",
   "id": "c7ecda6b",
   "metadata": {
    "papermill": {
     "duration": 0.014081,
     "end_time": "2022-06-02T02:04:27.576857",
     "exception": false,
     "start_time": "2022-06-02T02:04:27.562776",
     "status": "completed"
    },
    "tags": []
   },
   "source": [
    "# Kaggleで磨く 機械学習の実践力\n",
    "# 第4章 ベースライン作成"
   ]
  },
  {
   "cell_type": "markdown",
   "id": "7e3ee0a0",
   "metadata": {
    "papermill": {
     "duration": 0.012511,
     "end_time": "2022-06-02T02:04:27.602398",
     "exception": false,
     "start_time": "2022-06-02T02:04:27.589887",
     "status": "completed"
    },
    "tags": []
   },
   "source": [
    "# 4.3 ファイルの読み込み\n",
    "#### スクリプト4-1: ライブラリの読み込み"
   ]
  },
  {
   "cell_type": "code",
   "execution_count": 1,
   "id": "9eb8e14a",
   "metadata": {
    "execution": {
     "iopub.execute_input": "2022-06-02T02:04:27.630152Z",
     "iopub.status.busy": "2022-06-02T02:04:27.629522Z",
     "iopub.status.idle": "2022-06-02T02:04:42.417357Z",
     "shell.execute_reply": "2022-06-02T02:04:42.416226Z"
    },
    "papermill": {
     "duration": 14.804808,
     "end_time": "2022-06-02T02:04:42.420030",
     "exception": false,
     "start_time": "2022-06-02T02:04:27.615222",
     "status": "completed"
    },
    "tags": []
   },
   "outputs": [
    {
     "name": "stdout",
     "output_type": "stream",
     "text": [
      "Requirement already satisfied: pandas_profiling==3.2.0 in /Users/mitsutaka/.pyenv/versions/anaconda3-2021.11/envs/ml/lib/python3.9/site-packages (3.2.0)\n",
      "Requirement already satisfied: joblib~=1.1.0 in /Users/mitsutaka/.pyenv/versions/anaconda3-2021.11/envs/ml/lib/python3.9/site-packages (from pandas_profiling==3.2.0) (1.1.0)\n",
      "Requirement already satisfied: markupsafe~=2.1.1 in /Users/mitsutaka/.pyenv/versions/anaconda3-2021.11/envs/ml/lib/python3.9/site-packages (from pandas_profiling==3.2.0) (2.1.1)\n",
      "Requirement already satisfied: htmlmin>=0.1.12 in /Users/mitsutaka/.pyenv/versions/anaconda3-2021.11/envs/ml/lib/python3.9/site-packages (from pandas_profiling==3.2.0) (0.1.12)\n",
      "Requirement already satisfied: missingno>=0.4.2 in /Users/mitsutaka/.pyenv/versions/anaconda3-2021.11/envs/ml/lib/python3.9/site-packages (from pandas_profiling==3.2.0) (0.5.1)\n",
      "Requirement already satisfied: tqdm>=4.48.2 in /Users/mitsutaka/.pyenv/versions/anaconda3-2021.11/envs/ml/lib/python3.9/site-packages (from pandas_profiling==3.2.0) (4.64.0)\n",
      "Requirement already satisfied: pydantic>=1.8.1 in /Users/mitsutaka/.pyenv/versions/anaconda3-2021.11/envs/ml/lib/python3.9/site-packages (from pandas_profiling==3.2.0) (1.9.2)\n",
      "Requirement already satisfied: visions[type_image_path]==0.7.4 in /Users/mitsutaka/.pyenv/versions/anaconda3-2021.11/envs/ml/lib/python3.9/site-packages (from pandas_profiling==3.2.0) (0.7.4)\n",
      "Requirement already satisfied: scipy>=1.4.1 in /Users/mitsutaka/.pyenv/versions/anaconda3-2021.11/envs/ml/lib/python3.9/site-packages (from pandas_profiling==3.2.0) (1.7.3)\n",
      "Requirement already satisfied: pandas!=1.0.0,!=1.0.1,!=1.0.2,!=1.1.0,>=0.25.3 in /Users/mitsutaka/.pyenv/versions/anaconda3-2021.11/envs/ml/lib/python3.9/site-packages (from pandas_profiling==3.2.0) (1.4.3)\n",
      "Requirement already satisfied: PyYAML>=5.0.0 in /Users/mitsutaka/.pyenv/versions/anaconda3-2021.11/envs/ml/lib/python3.9/site-packages (from pandas_profiling==3.2.0) (6.0)\n",
      "Requirement already satisfied: matplotlib>=3.2.0 in /Users/mitsutaka/.pyenv/versions/anaconda3-2021.11/envs/ml/lib/python3.9/site-packages (from pandas_profiling==3.2.0) (3.5.3)\n",
      "Requirement already satisfied: tangled-up-in-unicode==0.2.0 in /Users/mitsutaka/.pyenv/versions/anaconda3-2021.11/envs/ml/lib/python3.9/site-packages (from pandas_profiling==3.2.0) (0.2.0)\n",
      "Requirement already satisfied: jinja2>=2.11.1 in /Users/mitsutaka/.pyenv/versions/anaconda3-2021.11/envs/ml/lib/python3.9/site-packages (from pandas_profiling==3.2.0) (3.1.2)\n",
      "Requirement already satisfied: numpy>=1.16.0 in /Users/mitsutaka/.pyenv/versions/anaconda3-2021.11/envs/ml/lib/python3.9/site-packages (from pandas_profiling==3.2.0) (1.22.4)\n",
      "Requirement already satisfied: seaborn>=0.10.1 in /Users/mitsutaka/.pyenv/versions/anaconda3-2021.11/envs/ml/lib/python3.9/site-packages (from pandas_profiling==3.2.0) (0.11.2)\n",
      "Requirement already satisfied: requests>=2.24.0 in /Users/mitsutaka/.pyenv/versions/anaconda3-2021.11/envs/ml/lib/python3.9/site-packages (from pandas_profiling==3.2.0) (2.28.1)\n",
      "Requirement already satisfied: multimethod>=1.4 in /Users/mitsutaka/.pyenv/versions/anaconda3-2021.11/envs/ml/lib/python3.9/site-packages (from pandas_profiling==3.2.0) (1.8)\n",
      "Requirement already satisfied: phik>=0.11.1 in /Users/mitsutaka/.pyenv/versions/anaconda3-2021.11/envs/ml/lib/python3.9/site-packages (from pandas_profiling==3.2.0) (0.12.2)\n",
      "Requirement already satisfied: attrs>=19.3.0 in /Users/mitsutaka/.pyenv/versions/anaconda3-2021.11/envs/ml/lib/python3.9/site-packages (from visions[type_image_path]==0.7.4->pandas_profiling==3.2.0) (22.1.0)\n",
      "Requirement already satisfied: networkx>=2.4 in /Users/mitsutaka/.pyenv/versions/anaconda3-2021.11/envs/ml/lib/python3.9/site-packages (from visions[type_image_path]==0.7.4->pandas_profiling==3.2.0) (2.8.5)\n",
      "Requirement already satisfied: imagehash in /Users/mitsutaka/.pyenv/versions/anaconda3-2021.11/envs/ml/lib/python3.9/site-packages (from visions[type_image_path]==0.7.4->pandas_profiling==3.2.0) (4.2.1)\n",
      "Requirement already satisfied: Pillow in /Users/mitsutaka/.pyenv/versions/anaconda3-2021.11/envs/ml/lib/python3.9/site-packages (from visions[type_image_path]==0.7.4->pandas_profiling==3.2.0) (9.2.0)\n",
      "Requirement already satisfied: cycler>=0.10 in /Users/mitsutaka/.pyenv/versions/anaconda3-2021.11/envs/ml/lib/python3.9/site-packages (from matplotlib>=3.2.0->pandas_profiling==3.2.0) (0.11.0)\n",
      "Requirement already satisfied: fonttools>=4.22.0 in /Users/mitsutaka/.pyenv/versions/anaconda3-2021.11/envs/ml/lib/python3.9/site-packages (from matplotlib>=3.2.0->pandas_profiling==3.2.0) (4.34.4)\n",
      "Requirement already satisfied: python-dateutil>=2.7 in /Users/mitsutaka/.pyenv/versions/anaconda3-2021.11/envs/ml/lib/python3.9/site-packages (from matplotlib>=3.2.0->pandas_profiling==3.2.0) (2.8.2)\n",
      "Requirement already satisfied: pyparsing>=2.2.1 in /Users/mitsutaka/.pyenv/versions/anaconda3-2021.11/envs/ml/lib/python3.9/site-packages (from matplotlib>=3.2.0->pandas_profiling==3.2.0) (3.0.9)\n",
      "Requirement already satisfied: kiwisolver>=1.0.1 in /Users/mitsutaka/.pyenv/versions/anaconda3-2021.11/envs/ml/lib/python3.9/site-packages (from matplotlib>=3.2.0->pandas_profiling==3.2.0) (1.4.4)\n",
      "Requirement already satisfied: packaging>=20.0 in /Users/mitsutaka/.pyenv/versions/anaconda3-2021.11/envs/ml/lib/python3.9/site-packages (from matplotlib>=3.2.0->pandas_profiling==3.2.0) (21.3)\n",
      "Requirement already satisfied: pytz>=2020.1 in /Users/mitsutaka/.pyenv/versions/anaconda3-2021.11/envs/ml/lib/python3.9/site-packages (from pandas!=1.0.0,!=1.0.1,!=1.0.2,!=1.1.0,>=0.25.3->pandas_profiling==3.2.0) (2022.2.1)\n",
      "Requirement already satisfied: typing-extensions>=3.7.4.3 in /Users/mitsutaka/.pyenv/versions/anaconda3-2021.11/envs/ml/lib/python3.9/site-packages (from pydantic>=1.8.1->pandas_profiling==3.2.0) (4.3.0)\n",
      "Requirement already satisfied: certifi>=2017.4.17 in /Users/mitsutaka/.pyenv/versions/anaconda3-2021.11/envs/ml/lib/python3.9/site-packages (from requests>=2.24.0->pandas_profiling==3.2.0) (2022.6.15)\n",
      "Requirement already satisfied: urllib3<1.27,>=1.21.1 in /Users/mitsutaka/.pyenv/versions/anaconda3-2021.11/envs/ml/lib/python3.9/site-packages (from requests>=2.24.0->pandas_profiling==3.2.0) (1.26.11)\n",
      "Requirement already satisfied: idna<4,>=2.5 in /Users/mitsutaka/.pyenv/versions/anaconda3-2021.11/envs/ml/lib/python3.9/site-packages (from requests>=2.24.0->pandas_profiling==3.2.0) (3.3)\n",
      "Requirement already satisfied: charset-normalizer<3,>=2 in /Users/mitsutaka/.pyenv/versions/anaconda3-2021.11/envs/ml/lib/python3.9/site-packages (from requests>=2.24.0->pandas_profiling==3.2.0) (2.1.0)\n",
      "Requirement already satisfied: six>=1.5 in /Users/mitsutaka/.pyenv/versions/anaconda3-2021.11/envs/ml/lib/python3.9/site-packages (from python-dateutil>=2.7->matplotlib>=3.2.0->pandas_profiling==3.2.0) (1.16.0)\n",
      "Requirement already satisfied: PyWavelets in /Users/mitsutaka/.pyenv/versions/anaconda3-2021.11/envs/ml/lib/python3.9/site-packages (from imagehash->visions[type_image_path]==0.7.4->pandas_profiling==3.2.0) (1.3.0)\n"
     ]
    }
   ],
   "source": [
    "# 2022/06/02追加: Kaggle notebook環境変更のため\n",
    "!pip install pandas_profiling==3.2.0"
   ]
  },
  {
   "cell_type": "code",
   "execution_count": 2,
   "id": "cf494c8d",
   "metadata": {
    "_cell_guid": "b1076dfc-b9ad-4769-8c92-a6c4dae69d19",
    "_uuid": "8f2839f25d086af736a60e9eeb907d3b93b6e0e5",
    "execution": {
     "iopub.execute_input": "2022-06-02T02:04:42.451470Z",
     "iopub.status.busy": "2022-06-02T02:04:42.450982Z",
     "iopub.status.idle": "2022-06-02T02:05:00.452503Z",
     "shell.execute_reply": "2022-06-02T02:05:00.451334Z"
    },
    "papermill": {
     "duration": 18.020474,
     "end_time": "2022-06-02T02:05:00.455199",
     "exception": false,
     "start_time": "2022-06-02T02:04:42.434725",
     "status": "completed"
    },
    "tags": []
   },
   "outputs": [
    {
     "name": "stderr",
     "output_type": "stream",
     "text": [
      "/Users/mitsutaka/.pyenv/versions/anaconda3-2021.11/envs/ml/lib/python3.9/site-packages/tqdm/auto.py:22: TqdmWarning: IProgress not found. Please update jupyter and ipywidgets. See https://ipywidgets.readthedocs.io/en/stable/user_install.html\n",
      "  from .autonotebook import tqdm as notebook_tqdm\n"
     ]
    },
    {
     "name": "stdout",
     "output_type": "stream",
     "text": [
      "Collecting japanize-matplotlib\n",
      "  Downloading japanize-matplotlib-1.1.3.tar.gz (4.1 MB)\n",
      "\u001b[2K     \u001b[90m━━━━━━━━━━━━━━━━━━━━━━━━━━━━━━━━━━━━━━━━\u001b[0m \u001b[32m4.1/4.1 MB\u001b[0m \u001b[31m8.1 MB/s\u001b[0m eta \u001b[36m0:00:00\u001b[0m00:01\u001b[0m00:01\u001b[0mm\n",
      "\u001b[?25h  Preparing metadata (setup.py) ... \u001b[?25ldone\n",
      "\u001b[?25hRequirement already satisfied: matplotlib in /Users/mitsutaka/.pyenv/versions/anaconda3-2021.11/envs/ml/lib/python3.9/site-packages (from japanize-matplotlib) (3.5.3)\n",
      "Requirement already satisfied: fonttools>=4.22.0 in /Users/mitsutaka/.pyenv/versions/anaconda3-2021.11/envs/ml/lib/python3.9/site-packages (from matplotlib->japanize-matplotlib) (4.34.4)\n",
      "Requirement already satisfied: numpy>=1.17 in /Users/mitsutaka/.pyenv/versions/anaconda3-2021.11/envs/ml/lib/python3.9/site-packages (from matplotlib->japanize-matplotlib) (1.22.4)\n",
      "Requirement already satisfied: pillow>=6.2.0 in /Users/mitsutaka/.pyenv/versions/anaconda3-2021.11/envs/ml/lib/python3.9/site-packages (from matplotlib->japanize-matplotlib) (9.2.0)\n",
      "Requirement already satisfied: python-dateutil>=2.7 in /Users/mitsutaka/.pyenv/versions/anaconda3-2021.11/envs/ml/lib/python3.9/site-packages (from matplotlib->japanize-matplotlib) (2.8.2)\n",
      "Requirement already satisfied: kiwisolver>=1.0.1 in /Users/mitsutaka/.pyenv/versions/anaconda3-2021.11/envs/ml/lib/python3.9/site-packages (from matplotlib->japanize-matplotlib) (1.4.4)\n",
      "Requirement already satisfied: pyparsing>=2.2.1 in /Users/mitsutaka/.pyenv/versions/anaconda3-2021.11/envs/ml/lib/python3.9/site-packages (from matplotlib->japanize-matplotlib) (3.0.9)\n",
      "Requirement already satisfied: cycler>=0.10 in /Users/mitsutaka/.pyenv/versions/anaconda3-2021.11/envs/ml/lib/python3.9/site-packages (from matplotlib->japanize-matplotlib) (0.11.0)\n",
      "Requirement already satisfied: packaging>=20.0 in /Users/mitsutaka/.pyenv/versions/anaconda3-2021.11/envs/ml/lib/python3.9/site-packages (from matplotlib->japanize-matplotlib) (21.3)\n",
      "Requirement already satisfied: six>=1.5 in /Users/mitsutaka/.pyenv/versions/anaconda3-2021.11/envs/ml/lib/python3.9/site-packages (from python-dateutil>=2.7->matplotlib->japanize-matplotlib) (1.16.0)\n",
      "Building wheels for collected packages: japanize-matplotlib\n",
      "  Building wheel for japanize-matplotlib (setup.py) ... \u001b[?25ldone\n",
      "\u001b[?25h  Created wheel for japanize-matplotlib: filename=japanize_matplotlib-1.1.3-py3-none-any.whl size=4120275 sha256=b9578b01d5248dd978775e3354aca00b66a6b591df5ac61ad8512adb5fa6618e\n",
      "  Stored in directory: /Users/mitsutaka/Library/Caches/pip/wheels/91/8f/c2/83055ad0c9591b0a094730aa7cb2cc12fedacbcd2241baf534\n",
      "Successfully built japanize-matplotlib\n",
      "Installing collected packages: japanize-matplotlib\n",
      "Successfully installed japanize-matplotlib-1.1.3\n"
     ]
    }
   ],
   "source": [
    "import numpy as np\n",
    "import pandas as pd\n",
    "import os\n",
    "import pickle\n",
    "import gc \n",
    "\n",
    "# 分布確認\n",
    "import pandas_profiling as pdp\n",
    "\n",
    "# 可視化\n",
    "import matplotlib.pyplot as plt\n",
    "\n",
    "# 前処理\n",
    "from sklearn.preprocessing import StandardScaler, MinMaxScaler, LabelEncoder, OneHotEncoder\n",
    "\n",
    "# バリデーション\n",
    "from sklearn.model_selection import train_test_split, KFold, StratifiedKFold\n",
    "\n",
    "# 評価指標\n",
    "from sklearn.metrics import accuracy_score, roc_auc_score, confusion_matrix\n",
    "\n",
    "# モデリング: lightgbm\n",
    "import lightgbm as lgb\n",
    "\n",
    "import warnings\n",
    "warnings.filterwarnings(\"ignore\")\n",
    "\n",
    "# matplotilbで日本語表示したい場合はこれをinstallしてインポートする\n",
    "!pip install japanize-matplotlib\n",
    "import japanize_matplotlib\n",
    "%matplotlib inline"
   ]
  },
  {
   "cell_type": "markdown",
   "id": "9f94fce1",
   "metadata": {
    "papermill": {
     "duration": 0.016788,
     "end_time": "2022-06-02T02:05:00.488568",
     "exception": false,
     "start_time": "2022-06-02T02:05:00.471780",
     "status": "completed"
    },
    "tags": []
   },
   "source": [
    "#### スクリプト4-2: ファイルの読み込み"
   ]
  },
  {
   "cell_type": "code",
   "execution_count": 4,
   "id": "2a878fcd",
   "metadata": {
    "execution": {
     "iopub.execute_input": "2022-06-02T02:05:00.523791Z",
     "iopub.status.busy": "2022-06-02T02:05:00.522951Z",
     "iopub.status.idle": "2022-06-02T02:05:00.565940Z",
     "shell.execute_reply": "2022-06-02T02:05:00.564989Z"
    },
    "papermill": {
     "duration": 0.063661,
     "end_time": "2022-06-02T02:05:00.568580",
     "exception": false,
     "start_time": "2022-06-02T02:05:00.504919",
     "status": "completed"
    },
    "tags": []
   },
   "outputs": [
    {
     "data": {
      "text/html": [
       "<div>\n",
       "<style scoped>\n",
       "    .dataframe tbody tr th:only-of-type {\n",
       "        vertical-align: middle;\n",
       "    }\n",
       "\n",
       "    .dataframe tbody tr th {\n",
       "        vertical-align: top;\n",
       "    }\n",
       "\n",
       "    .dataframe thead th {\n",
       "        text-align: right;\n",
       "    }\n",
       "</style>\n",
       "<table border=\"1\" class=\"dataframe\">\n",
       "  <thead>\n",
       "    <tr style=\"text-align: right;\">\n",
       "      <th></th>\n",
       "      <th>PassengerId</th>\n",
       "      <th>Survived</th>\n",
       "      <th>Pclass</th>\n",
       "      <th>Name</th>\n",
       "      <th>Sex</th>\n",
       "      <th>Age</th>\n",
       "      <th>SibSp</th>\n",
       "      <th>Parch</th>\n",
       "      <th>Ticket</th>\n",
       "      <th>Fare</th>\n",
       "      <th>Cabin</th>\n",
       "      <th>Embarked</th>\n",
       "    </tr>\n",
       "  </thead>\n",
       "  <tbody>\n",
       "    <tr>\n",
       "      <th>0</th>\n",
       "      <td>1</td>\n",
       "      <td>0</td>\n",
       "      <td>3</td>\n",
       "      <td>Braund, Mr. Owen Harris</td>\n",
       "      <td>male</td>\n",
       "      <td>22.0</td>\n",
       "      <td>1</td>\n",
       "      <td>0</td>\n",
       "      <td>A/5 21171</td>\n",
       "      <td>7.2500</td>\n",
       "      <td>NaN</td>\n",
       "      <td>S</td>\n",
       "    </tr>\n",
       "    <tr>\n",
       "      <th>1</th>\n",
       "      <td>2</td>\n",
       "      <td>1</td>\n",
       "      <td>1</td>\n",
       "      <td>Cumings, Mrs. John Bradley (Florence Briggs Th...</td>\n",
       "      <td>female</td>\n",
       "      <td>38.0</td>\n",
       "      <td>1</td>\n",
       "      <td>0</td>\n",
       "      <td>PC 17599</td>\n",
       "      <td>71.2833</td>\n",
       "      <td>C85</td>\n",
       "      <td>C</td>\n",
       "    </tr>\n",
       "    <tr>\n",
       "      <th>2</th>\n",
       "      <td>3</td>\n",
       "      <td>1</td>\n",
       "      <td>3</td>\n",
       "      <td>Heikkinen, Miss. Laina</td>\n",
       "      <td>female</td>\n",
       "      <td>26.0</td>\n",
       "      <td>0</td>\n",
       "      <td>0</td>\n",
       "      <td>STON/O2. 3101282</td>\n",
       "      <td>7.9250</td>\n",
       "      <td>NaN</td>\n",
       "      <td>S</td>\n",
       "    </tr>\n",
       "    <tr>\n",
       "      <th>3</th>\n",
       "      <td>4</td>\n",
       "      <td>1</td>\n",
       "      <td>1</td>\n",
       "      <td>Futrelle, Mrs. Jacques Heath (Lily May Peel)</td>\n",
       "      <td>female</td>\n",
       "      <td>35.0</td>\n",
       "      <td>1</td>\n",
       "      <td>0</td>\n",
       "      <td>113803</td>\n",
       "      <td>53.1000</td>\n",
       "      <td>C123</td>\n",
       "      <td>S</td>\n",
       "    </tr>\n",
       "    <tr>\n",
       "      <th>4</th>\n",
       "      <td>5</td>\n",
       "      <td>0</td>\n",
       "      <td>3</td>\n",
       "      <td>Allen, Mr. William Henry</td>\n",
       "      <td>male</td>\n",
       "      <td>35.0</td>\n",
       "      <td>0</td>\n",
       "      <td>0</td>\n",
       "      <td>373450</td>\n",
       "      <td>8.0500</td>\n",
       "      <td>NaN</td>\n",
       "      <td>S</td>\n",
       "    </tr>\n",
       "  </tbody>\n",
       "</table>\n",
       "</div>"
      ],
      "text/plain": [
       "   PassengerId  Survived  Pclass  \\\n",
       "0            1         0       3   \n",
       "1            2         1       1   \n",
       "2            3         1       3   \n",
       "3            4         1       1   \n",
       "4            5         0       3   \n",
       "\n",
       "                                                Name     Sex   Age  SibSp  \\\n",
       "0                            Braund, Mr. Owen Harris    male  22.0      1   \n",
       "1  Cumings, Mrs. John Bradley (Florence Briggs Th...  female  38.0      1   \n",
       "2                             Heikkinen, Miss. Laina  female  26.0      0   \n",
       "3       Futrelle, Mrs. Jacques Heath (Lily May Peel)  female  35.0      1   \n",
       "4                           Allen, Mr. William Henry    male  35.0      0   \n",
       "\n",
       "   Parch            Ticket     Fare Cabin Embarked  \n",
       "0      0         A/5 21171   7.2500   NaN        S  \n",
       "1      0          PC 17599  71.2833   C85        C  \n",
       "2      0  STON/O2. 3101282   7.9250   NaN        S  \n",
       "3      0            113803  53.1000  C123        S  \n",
       "4      0            373450   8.0500   NaN        S  "
      ]
     },
     "execution_count": 4,
     "metadata": {},
     "output_type": "execute_result"
    }
   ],
   "source": [
    "df_train = pd.read_csv(\"../input/titanic/train.csv\")\n",
    "df_train.head()"
   ]
  },
  {
   "cell_type": "markdown",
   "id": "c0348344",
   "metadata": {
    "papermill": {
     "duration": 0.016019,
     "end_time": "2022-06-02T02:05:00.601281",
     "exception": false,
     "start_time": "2022-06-02T02:05:00.585262",
     "status": "completed"
    },
    "tags": []
   },
   "source": [
    "# 4.4 データの確認（簡易）\n",
    "## 4.4.1 レコード数とカラム数の確認"
   ]
  },
  {
   "cell_type": "markdown",
   "id": "8adbff66",
   "metadata": {
    "papermill": {
     "duration": 0.015994,
     "end_time": "2022-06-02T02:05:00.633595",
     "exception": false,
     "start_time": "2022-06-02T02:05:00.617601",
     "status": "completed"
    },
    "tags": []
   },
   "source": [
    "#### スクリプト4-3: レコード数とカラム数の確認"
   ]
  },
  {
   "cell_type": "code",
   "execution_count": 5,
   "id": "af83c340",
   "metadata": {
    "execution": {
     "iopub.execute_input": "2022-06-02T02:05:00.668785Z",
     "iopub.status.busy": "2022-06-02T02:05:00.667785Z",
     "iopub.status.idle": "2022-06-02T02:05:00.674640Z",
     "shell.execute_reply": "2022-06-02T02:05:00.673164Z"
    },
    "papermill": {
     "duration": 0.026617,
     "end_time": "2022-06-02T02:05:00.676627",
     "exception": false,
     "start_time": "2022-06-02T02:05:00.650010",
     "status": "completed"
    },
    "tags": []
   },
   "outputs": [
    {
     "name": "stdout",
     "output_type": "stream",
     "text": [
      "(891, 12)\n",
      "レコード数: 891\n",
      "カラム数: 12\n"
     ]
    }
   ],
   "source": [
    "print(df_train.shape)\n",
    "print(\"レコード数:\", len(df_train))\n",
    "print(\"カラム数:\", len(df_train.columns))"
   ]
  },
  {
   "cell_type": "markdown",
   "id": "ca761e8c",
   "metadata": {
    "papermill": {
     "duration": 0.016424,
     "end_time": "2022-06-02T02:05:00.709915",
     "exception": false,
     "start_time": "2022-06-02T02:05:00.693491",
     "status": "completed"
    },
    "tags": []
   },
   "source": [
    "## 4.4.2 カラムごとのデータの種類の確認"
   ]
  },
  {
   "cell_type": "markdown",
   "id": "8dadbae2",
   "metadata": {
    "papermill": {
     "duration": 0.016236,
     "end_time": "2022-06-02T02:05:00.742610",
     "exception": false,
     "start_time": "2022-06-02T02:05:00.726374",
     "status": "completed"
    },
    "tags": []
   },
   "source": [
    "#### スクリプト4-4: データの確認"
   ]
  },
  {
   "cell_type": "code",
   "execution_count": 6,
   "id": "186e5470",
   "metadata": {
    "execution": {
     "iopub.execute_input": "2022-06-02T02:05:00.778212Z",
     "iopub.status.busy": "2022-06-02T02:05:00.777771Z",
     "iopub.status.idle": "2022-06-02T02:05:00.804141Z",
     "shell.execute_reply": "2022-06-02T02:05:00.802592Z"
    },
    "papermill": {
     "duration": 0.04695,
     "end_time": "2022-06-02T02:05:00.806760",
     "exception": false,
     "start_time": "2022-06-02T02:05:00.759810",
     "status": "completed"
    },
    "tags": []
   },
   "outputs": [
    {
     "name": "stdout",
     "output_type": "stream",
     "text": [
      "<class 'pandas.core.frame.DataFrame'>\n",
      "RangeIndex: 891 entries, 0 to 890\n",
      "Data columns (total 12 columns):\n",
      " #   Column       Non-Null Count  Dtype  \n",
      "---  ------       --------------  -----  \n",
      " 0   PassengerId  891 non-null    int64  \n",
      " 1   Survived     891 non-null    int64  \n",
      " 2   Pclass       891 non-null    int64  \n",
      " 3   Name         891 non-null    object \n",
      " 4   Sex          891 non-null    object \n",
      " 5   Age          714 non-null    float64\n",
      " 6   SibSp        891 non-null    int64  \n",
      " 7   Parch        891 non-null    int64  \n",
      " 8   Ticket       891 non-null    object \n",
      " 9   Fare         891 non-null    float64\n",
      " 10  Cabin        204 non-null    object \n",
      " 11  Embarked     889 non-null    object \n",
      "dtypes: float64(2), int64(5), object(5)\n",
      "memory usage: 83.7+ KB\n"
     ]
    }
   ],
   "source": [
    "df_train.info()"
   ]
  },
  {
   "cell_type": "markdown",
   "id": "5a2a6980",
   "metadata": {
    "papermill": {
     "duration": 0.016438,
     "end_time": "2022-06-02T02:05:00.840058",
     "exception": false,
     "start_time": "2022-06-02T02:05:00.823620",
     "status": "completed"
    },
    "tags": []
   },
   "source": [
    "#### スクリプト4-5: データ型の変換"
   ]
  },
  {
   "cell_type": "code",
   "execution_count": 7,
   "id": "ec871412",
   "metadata": {
    "execution": {
     "iopub.execute_input": "2022-06-02T02:05:00.875886Z",
     "iopub.status.busy": "2022-06-02T02:05:00.875466Z",
     "iopub.status.idle": "2022-06-02T02:05:00.888591Z",
     "shell.execute_reply": "2022-06-02T02:05:00.887584Z"
    },
    "papermill": {
     "duration": 0.03365,
     "end_time": "2022-06-02T02:05:00.890872",
     "exception": false,
     "start_time": "2022-06-02T02:05:00.857222",
     "status": "completed"
    },
    "tags": []
   },
   "outputs": [
    {
     "name": "stdout",
     "output_type": "stream",
     "text": [
      "<class 'pandas.core.frame.DataFrame'>\n",
      "RangeIndex: 891 entries, 0 to 890\n",
      "Data columns (total 1 columns):\n",
      " #   Column  Non-Null Count  Dtype \n",
      "---  ------  --------------  ----- \n",
      " 0   Pclass  891 non-null    object\n",
      "dtypes: object(1)\n",
      "memory usage: 7.1+ KB\n"
     ]
    }
   ],
   "source": [
    "df_train[\"Pclass\"] = df_train[\"Pclass\"].astype(object)\n",
    "df_train[[\"Pclass\"]].info()"
   ]
  },
  {
   "cell_type": "markdown",
   "id": "7cbd42a0",
   "metadata": {
    "papermill": {
     "duration": 0.01709,
     "end_time": "2022-06-02T02:05:00.925866",
     "exception": false,
     "start_time": "2022-06-02T02:05:00.908776",
     "status": "completed"
    },
    "tags": []
   },
   "source": [
    "#### スクリプト4-6: データ型をobject型からint型に戻す"
   ]
  },
  {
   "cell_type": "code",
   "execution_count": 8,
   "id": "7a3b9113",
   "metadata": {
    "execution": {
     "iopub.execute_input": "2022-06-02T02:05:00.962690Z",
     "iopub.status.busy": "2022-06-02T02:05:00.961858Z",
     "iopub.status.idle": "2022-06-02T02:05:00.976199Z",
     "shell.execute_reply": "2022-06-02T02:05:00.974888Z"
    },
    "papermill": {
     "duration": 0.035284,
     "end_time": "2022-06-02T02:05:00.978293",
     "exception": false,
     "start_time": "2022-06-02T02:05:00.943009",
     "status": "completed"
    },
    "tags": []
   },
   "outputs": [
    {
     "name": "stdout",
     "output_type": "stream",
     "text": [
      "<class 'pandas.core.frame.DataFrame'>\n",
      "RangeIndex: 891 entries, 0 to 890\n",
      "Data columns (total 1 columns):\n",
      " #   Column  Non-Null Count  Dtype\n",
      "---  ------  --------------  -----\n",
      " 0   Pclass  891 non-null    int64\n",
      "dtypes: int64(1)\n",
      "memory usage: 7.1 KB\n"
     ]
    }
   ],
   "source": [
    "df_train[\"Pclass\"] = df_train[\"Pclass\"].astype(np.int64)\n",
    "df_train[[\"Pclass\"]].info()"
   ]
  },
  {
   "cell_type": "markdown",
   "id": "9b1e6dae",
   "metadata": {
    "papermill": {
     "duration": 0.017517,
     "end_time": "2022-06-02T02:05:01.013433",
     "exception": false,
     "start_time": "2022-06-02T02:05:00.995916",
     "status": "completed"
    },
    "tags": []
   },
   "source": [
    "## 4.4.3 欠損値の確認\n",
    "#### スクリプト4-7: 欠損値の確認"
   ]
  },
  {
   "cell_type": "code",
   "execution_count": 9,
   "id": "2076fabb",
   "metadata": {
    "execution": {
     "iopub.execute_input": "2022-06-02T02:05:01.049761Z",
     "iopub.status.busy": "2022-06-02T02:05:01.049120Z",
     "iopub.status.idle": "2022-06-02T02:05:01.059837Z",
     "shell.execute_reply": "2022-06-02T02:05:01.058798Z"
    },
    "papermill": {
     "duration": 0.032457,
     "end_time": "2022-06-02T02:05:01.063185",
     "exception": false,
     "start_time": "2022-06-02T02:05:01.030728",
     "status": "completed"
    },
    "tags": []
   },
   "outputs": [
    {
     "data": {
      "text/plain": [
       "PassengerId      0\n",
       "Survived         0\n",
       "Pclass           0\n",
       "Name             0\n",
       "Sex              0\n",
       "Age            177\n",
       "SibSp            0\n",
       "Parch            0\n",
       "Ticket           0\n",
       "Fare             0\n",
       "Cabin          687\n",
       "Embarked         2\n",
       "dtype: int64"
      ]
     },
     "execution_count": 9,
     "metadata": {},
     "output_type": "execute_result"
    }
   ],
   "source": [
    "df_train.isnull().sum()"
   ]
  },
  {
   "cell_type": "markdown",
   "id": "5182260d",
   "metadata": {
    "papermill": {
     "duration": 0.018136,
     "end_time": "2022-06-02T02:05:01.100382",
     "exception": false,
     "start_time": "2022-06-02T02:05:01.082246",
     "status": "completed"
    },
    "tags": []
   },
   "source": [
    "# 4.5 データセット作成\n",
    "#### スクリプト4-8: データセット作成"
   ]
  },
  {
   "cell_type": "code",
   "execution_count": 10,
   "id": "908300a9",
   "metadata": {
    "execution": {
     "iopub.execute_input": "2022-06-02T02:05:01.137548Z",
     "iopub.status.busy": "2022-06-02T02:05:01.137069Z",
     "iopub.status.idle": "2022-06-02T02:05:01.145387Z",
     "shell.execute_reply": "2022-06-02T02:05:01.144167Z"
    },
    "papermill": {
     "duration": 0.030049,
     "end_time": "2022-06-02T02:05:01.148491",
     "exception": false,
     "start_time": "2022-06-02T02:05:01.118442",
     "status": "completed"
    },
    "tags": []
   },
   "outputs": [
    {
     "name": "stdout",
     "output_type": "stream",
     "text": [
      "(891, 2) (891, 1) (891, 1)\n"
     ]
    }
   ],
   "source": [
    "x_train, y_train, id_train = df_train[[\"Pclass\", \"Fare\"]], \\\n",
    "                             df_train[[\"Survived\"]], \\\n",
    "                             df_train[[\"PassengerId\"]]\n",
    "print(x_train.shape, y_train.shape, id_train.shape)"
   ]
  },
  {
   "cell_type": "markdown",
   "id": "6df8c743",
   "metadata": {
    "papermill": {
     "duration": 0.017223,
     "end_time": "2022-06-02T02:05:01.183146",
     "exception": false,
     "start_time": "2022-06-02T02:05:01.165923",
     "status": "completed"
    },
    "tags": []
   },
   "source": [
    "# 4.6 バリデーション設計\n",
    "## 4.6.2 ホールドアウト検証と交差検証\n",
    "#### スクリプト4-9: ホールドアウト検証の実行"
   ]
  },
  {
   "cell_type": "code",
   "execution_count": 11,
   "id": "b8f56887",
   "metadata": {
    "execution": {
     "iopub.execute_input": "2022-06-02T02:05:01.219968Z",
     "iopub.status.busy": "2022-06-02T02:05:01.219064Z",
     "iopub.status.idle": "2022-06-02T02:05:01.239718Z",
     "shell.execute_reply": "2022-06-02T02:05:01.238896Z"
    },
    "papermill": {
     "duration": 0.041683,
     "end_time": "2022-06-02T02:05:01.242100",
     "exception": false,
     "start_time": "2022-06-02T02:05:01.200417",
     "status": "completed"
    },
    "tags": []
   },
   "outputs": [
    {
     "name": "stdout",
     "output_type": "stream",
     "text": [
      "(712, 2) (712, 1)\n",
      "(179, 2) (179, 1)\n",
      "y_train:0.384, y_tr:0.383, y_va:0.385\n"
     ]
    }
   ],
   "source": [
    "x_tr, x_va, y_tr, y_va = train_test_split(x_train,\n",
    "                                          y_train,\n",
    "                                          test_size=0.2,\n",
    "                                          shuffle=True,\n",
    "                                          stratify=y_train, \n",
    "                                          random_state=123)\n",
    "print(x_tr.shape, y_tr.shape)\n",
    "print(x_va.shape, y_va.shape)\n",
    "print(\"y_train:{:.3f}, y_tr:{:.3f}, y_va:{:.3f}\".format(\n",
    "    y_train[\"Survived\"].mean(),\n",
    "    y_tr[\"Survived\"].mean(),\n",
    "    y_va[\"Survived\"].mean(),\n",
    "))"
   ]
  },
  {
   "cell_type": "markdown",
   "id": "086be3a0",
   "metadata": {
    "papermill": {
     "duration": 0.016846,
     "end_time": "2022-06-02T02:05:01.276452",
     "exception": false,
     "start_time": "2022-06-02T02:05:01.259606",
     "status": "completed"
    },
    "tags": []
   },
   "source": [
    "#### スクリプト4-10: クロスバリデーションの実行"
   ]
  },
  {
   "cell_type": "code",
   "execution_count": 12,
   "id": "b95267d5",
   "metadata": {
    "execution": {
     "iopub.execute_input": "2022-06-02T02:05:01.312613Z",
     "iopub.status.busy": "2022-06-02T02:05:01.311754Z",
     "iopub.status.idle": "2022-06-02T02:05:01.336509Z",
     "shell.execute_reply": "2022-06-02T02:05:01.335727Z"
    },
    "papermill": {
     "duration": 0.044997,
     "end_time": "2022-06-02T02:05:01.338541",
     "exception": false,
     "start_time": "2022-06-02T02:05:01.293544",
     "status": "completed"
    },
    "tags": []
   },
   "outputs": [
    {
     "name": "stdout",
     "output_type": "stream",
     "text": [
      "-------------------- 0 --------------------\n",
      "(712, 2) (712, 1)\n",
      "(179, 2) (179, 1)\n",
      "y_train:0.384, y_tr:0.383, y_va:0.385\n",
      "-------------------- 1 --------------------\n",
      "(713, 2) (713, 1)\n",
      "(178, 2) (178, 1)\n",
      "y_train:0.384, y_tr:0.384, y_va:0.382\n",
      "-------------------- 2 --------------------\n",
      "(713, 2) (713, 1)\n",
      "(178, 2) (178, 1)\n",
      "y_train:0.384, y_tr:0.384, y_va:0.382\n",
      "-------------------- 3 --------------------\n",
      "(713, 2) (713, 1)\n",
      "(178, 2) (178, 1)\n",
      "y_train:0.384, y_tr:0.384, y_va:0.382\n",
      "-------------------- 4 --------------------\n",
      "(713, 2) (713, 1)\n",
      "(178, 2) (178, 1)\n",
      "y_train:0.384, y_tr:0.383, y_va:0.388\n"
     ]
    }
   ],
   "source": [
    "n_splits = 5\n",
    "cv = list(StratifiedKFold(n_splits=n_splits, shuffle=True, random_state=123).split(x_train, y_train))\n",
    "for nfold in np.arange(n_splits):\n",
    "    print(\"-\"*20, nfold, \"-\"*20)\n",
    "    idx_tr, idx_va = cv[nfold][0], cv[nfold][1]\n",
    "    x_tr, y_tr = x_train.loc[idx_tr, :], y_train.loc[idx_tr, :]\n",
    "    x_va, y_va = x_train.loc[idx_va, :], y_train.loc[idx_va, :]\n",
    "    print(x_tr.shape, y_tr.shape)\n",
    "    print(x_va.shape, y_va.shape)\n",
    "    print(\"y_train:{:.3f}, y_tr:{:.3f}, y_va:{:.3f}\".format(\n",
    "        y_train[\"Survived\"].mean(),\n",
    "        y_tr[\"Survived\"].mean(),\n",
    "        y_va[\"Survived\"].mean(),\n",
    "    ))\n",
    "    \n",
    "    # ここでモデル学習（ここは次節にて説明するため省略）"
   ]
  },
  {
   "cell_type": "markdown",
   "id": "7c087454",
   "metadata": {
    "papermill": {
     "duration": 0.016925,
     "end_time": "2022-06-02T02:05:01.372798",
     "exception": false,
     "start_time": "2022-06-02T02:05:01.355873",
     "status": "completed"
    },
    "tags": []
   },
   "source": [
    "# 4.7 モデル学習（勾配ブースティング）\n",
    "## 4.7.1 ホールドアウト検証の場合\n",
    "#### スクリプト4-11: データセットの作成（スクリプト4-9の再掲）"
   ]
  },
  {
   "cell_type": "code",
   "execution_count": 13,
   "id": "03c29039",
   "metadata": {
    "execution": {
     "iopub.execute_input": "2022-06-02T02:05:01.409671Z",
     "iopub.status.busy": "2022-06-02T02:05:01.408753Z",
     "iopub.status.idle": "2022-06-02T02:05:01.425726Z",
     "shell.execute_reply": "2022-06-02T02:05:01.424976Z"
    },
    "papermill": {
     "duration": 0.037494,
     "end_time": "2022-06-02T02:05:01.427725",
     "exception": false,
     "start_time": "2022-06-02T02:05:01.390231",
     "status": "completed"
    },
    "tags": []
   },
   "outputs": [
    {
     "name": "stdout",
     "output_type": "stream",
     "text": [
      "(712, 2) (712, 1)\n",
      "(179, 2) (179, 1)\n",
      "y_train:0.384, y_tr:0.383, y_va:0.385\n"
     ]
    }
   ],
   "source": [
    "x_tr, x_va, y_tr, y_va = train_test_split(x_train,\n",
    "                                          y_train,\n",
    "                                          test_size=0.2,\n",
    "                                          shuffle=True,\n",
    "                                          stratify=y_train, \n",
    "                                          random_state=123)\n",
    "print(x_tr.shape, y_tr.shape)\n",
    "print(x_va.shape, y_va.shape)\n",
    "print(\"y_train:{:.3f}, y_tr:{:.3f}, y_va:{:.3f}\".format(\n",
    "    y_train[\"Survived\"].mean(),\n",
    "    y_tr[\"Survived\"].mean(),\n",
    "    y_va[\"Survived\"].mean(),\n",
    "))"
   ]
  },
  {
   "cell_type": "markdown",
   "id": "bd4373d7",
   "metadata": {
    "papermill": {
     "duration": 0.016969,
     "end_time": "2022-06-02T02:05:01.462134",
     "exception": false,
     "start_time": "2022-06-02T02:05:01.445165",
     "status": "completed"
    },
    "tags": []
   },
   "source": [
    "#### スクリプト4-12: モデル学習（ホールドアウト検証の場合）"
   ]
  },
  {
   "cell_type": "code",
   "execution_count": 14,
   "id": "40ca37db",
   "metadata": {
    "execution": {
     "iopub.execute_input": "2022-06-02T02:05:01.498554Z",
     "iopub.status.busy": "2022-06-02T02:05:01.498119Z",
     "iopub.status.idle": "2022-06-02T02:05:01.628964Z",
     "shell.execute_reply": "2022-06-02T02:05:01.628169Z"
    },
    "papermill": {
     "duration": 0.151797,
     "end_time": "2022-06-02T02:05:01.631166",
     "exception": false,
     "start_time": "2022-06-02T02:05:01.479369",
     "status": "completed"
    },
    "tags": []
   },
   "outputs": [
    {
     "name": "stdout",
     "output_type": "stream",
     "text": [
      "Training until validation scores don't improve for 100 rounds\n",
      "[10]\ttraining's auc: 0.792256\tvalid_1's auc: 0.744862\n",
      "[20]\ttraining's auc: 0.801914\tvalid_1's auc: 0.752372\n",
      "[30]\ttraining's auc: 0.808339\tvalid_1's auc: 0.759223\n",
      "[40]\ttraining's auc: 0.816595\tvalid_1's auc: 0.759223\n",
      "[50]\ttraining's auc: 0.820771\tvalid_1's auc: 0.755138\n",
      "[60]\ttraining's auc: 0.82582\tvalid_1's auc: 0.754809\n",
      "[70]\ttraining's auc: 0.82995\tvalid_1's auc: 0.753755\n",
      "[80]\ttraining's auc: 0.832645\tvalid_1's auc: 0.752767\n",
      "[90]\ttraining's auc: 0.834593\tvalid_1's auc: 0.750132\n",
      "[100]\ttraining's auc: 0.837247\tvalid_1's auc: 0.747892\n",
      "[110]\ttraining's auc: 0.839036\tvalid_1's auc: 0.746838\n",
      "[120]\ttraining's auc: 0.840764\tvalid_1's auc: 0.746311\n",
      "[130]\ttraining's auc: 0.842007\tvalid_1's auc: 0.746706\n",
      "Early stopping, best iteration is:\n",
      "[35]\ttraining's auc: 0.81342\tvalid_1's auc: 0.761265\n"
     ]
    },
    {
     "data": {
      "text/html": [
       "<style>#sk-container-id-1 {color: black;background-color: white;}#sk-container-id-1 pre{padding: 0;}#sk-container-id-1 div.sk-toggleable {background-color: white;}#sk-container-id-1 label.sk-toggleable__label {cursor: pointer;display: block;width: 100%;margin-bottom: 0;padding: 0.3em;box-sizing: border-box;text-align: center;}#sk-container-id-1 label.sk-toggleable__label-arrow:before {content: \"▸\";float: left;margin-right: 0.25em;color: #696969;}#sk-container-id-1 label.sk-toggleable__label-arrow:hover:before {color: black;}#sk-container-id-1 div.sk-estimator:hover label.sk-toggleable__label-arrow:before {color: black;}#sk-container-id-1 div.sk-toggleable__content {max-height: 0;max-width: 0;overflow: hidden;text-align: left;background-color: #f0f8ff;}#sk-container-id-1 div.sk-toggleable__content pre {margin: 0.2em;color: black;border-radius: 0.25em;background-color: #f0f8ff;}#sk-container-id-1 input.sk-toggleable__control:checked~div.sk-toggleable__content {max-height: 200px;max-width: 100%;overflow: auto;}#sk-container-id-1 input.sk-toggleable__control:checked~label.sk-toggleable__label-arrow:before {content: \"▾\";}#sk-container-id-1 div.sk-estimator input.sk-toggleable__control:checked~label.sk-toggleable__label {background-color: #d4ebff;}#sk-container-id-1 div.sk-label input.sk-toggleable__control:checked~label.sk-toggleable__label {background-color: #d4ebff;}#sk-container-id-1 input.sk-hidden--visually {border: 0;clip: rect(1px 1px 1px 1px);clip: rect(1px, 1px, 1px, 1px);height: 1px;margin: -1px;overflow: hidden;padding: 0;position: absolute;width: 1px;}#sk-container-id-1 div.sk-estimator {font-family: monospace;background-color: #f0f8ff;border: 1px dotted black;border-radius: 0.25em;box-sizing: border-box;margin-bottom: 0.5em;}#sk-container-id-1 div.sk-estimator:hover {background-color: #d4ebff;}#sk-container-id-1 div.sk-parallel-item::after {content: \"\";width: 100%;border-bottom: 1px solid gray;flex-grow: 1;}#sk-container-id-1 div.sk-label:hover label.sk-toggleable__label {background-color: #d4ebff;}#sk-container-id-1 div.sk-serial::before {content: \"\";position: absolute;border-left: 1px solid gray;box-sizing: border-box;top: 0;bottom: 0;left: 50%;z-index: 0;}#sk-container-id-1 div.sk-serial {display: flex;flex-direction: column;align-items: center;background-color: white;padding-right: 0.2em;padding-left: 0.2em;position: relative;}#sk-container-id-1 div.sk-item {position: relative;z-index: 1;}#sk-container-id-1 div.sk-parallel {display: flex;align-items: stretch;justify-content: center;background-color: white;position: relative;}#sk-container-id-1 div.sk-item::before, #sk-container-id-1 div.sk-parallel-item::before {content: \"\";position: absolute;border-left: 1px solid gray;box-sizing: border-box;top: 0;bottom: 0;left: 50%;z-index: -1;}#sk-container-id-1 div.sk-parallel-item {display: flex;flex-direction: column;z-index: 1;position: relative;background-color: white;}#sk-container-id-1 div.sk-parallel-item:first-child::after {align-self: flex-end;width: 50%;}#sk-container-id-1 div.sk-parallel-item:last-child::after {align-self: flex-start;width: 50%;}#sk-container-id-1 div.sk-parallel-item:only-child::after {width: 0;}#sk-container-id-1 div.sk-dashed-wrapped {border: 1px dashed gray;margin: 0 0.4em 0.5em 0.4em;box-sizing: border-box;padding-bottom: 0.4em;background-color: white;}#sk-container-id-1 div.sk-label label {font-family: monospace;font-weight: bold;display: inline-block;line-height: 1.2em;}#sk-container-id-1 div.sk-label-container {text-align: center;}#sk-container-id-1 div.sk-container {/* jupyter's `normalize.less` sets `[hidden] { display: none; }` but bootstrap.min.css set `[hidden] { display: none !important; }` so we also need the `!important` here to be able to override the default hidden behavior on the sphinx rendered scikit-learn.org. See: https://github.com/scikit-learn/scikit-learn/issues/21755 */display: inline-block !important;position: relative;}#sk-container-id-1 div.sk-text-repr-fallback {display: none;}</style><div id=\"sk-container-id-1\" class=\"sk-top-container\"><div class=\"sk-text-repr-fallback\"><pre>LGBMClassifier(importance_type=&#x27;gain&#x27;, metric=&#x27;auc&#x27;, n_estimators=100000,\n",
       "               num_leaves=16, objective=&#x27;binary&#x27;, random_state=123)</pre><b>In a Jupyter environment, please rerun this cell to show the HTML representation or trust the notebook. <br />On GitHub, the HTML representation is unable to render, please try loading this page with nbviewer.org.</b></div><div class=\"sk-container\" hidden><div class=\"sk-item\"><div class=\"sk-estimator sk-toggleable\"><input class=\"sk-toggleable__control sk-hidden--visually\" id=\"sk-estimator-id-1\" type=\"checkbox\" checked><label for=\"sk-estimator-id-1\" class=\"sk-toggleable__label sk-toggleable__label-arrow\">LGBMClassifier</label><div class=\"sk-toggleable__content\"><pre>LGBMClassifier(importance_type=&#x27;gain&#x27;, metric=&#x27;auc&#x27;, n_estimators=100000,\n",
       "               num_leaves=16, objective=&#x27;binary&#x27;, random_state=123)</pre></div></div></div></div></div>"
      ],
      "text/plain": [
       "LGBMClassifier(importance_type='gain', metric='auc', n_estimators=100000,\n",
       "               num_leaves=16, objective='binary', random_state=123)"
      ]
     },
     "execution_count": 14,
     "metadata": {},
     "output_type": "execute_result"
    }
   ],
   "source": [
    "# ハイパーパラメータ\n",
    "params = {\n",
    "    'boosting_type': 'gbdt',\n",
    "    'objective': 'binary', \n",
    "    'metric': 'auc',\n",
    "    'learning_rate': 0.1,\n",
    "    'num_leaves': 16,\n",
    "    'n_estimators': 100000,\n",
    "    \"random_state\": 123,\n",
    "    \"importance_type\": \"gain\",\n",
    "}\n",
    "\n",
    "model = lgb.LGBMClassifier(**params)\n",
    "model.fit(x_tr,\n",
    "          y_tr,\n",
    "          eval_set=[(x_tr,y_tr), (x_va,y_va)],\n",
    "          early_stopping_rounds=100,\n",
    "          verbose=10,\n",
    "         )"
   ]
  },
  {
   "cell_type": "markdown",
   "id": "4a63950c",
   "metadata": {
    "papermill": {
     "duration": 0.017407,
     "end_time": "2022-06-02T02:05:01.667119",
     "exception": false,
     "start_time": "2022-06-02T02:05:01.649712",
     "status": "completed"
    },
    "tags": []
   },
   "source": [
    "#### スクリプト4-13: 精度の評価"
   ]
  },
  {
   "cell_type": "code",
   "execution_count": 15,
   "id": "98c07534",
   "metadata": {
    "execution": {
     "iopub.execute_input": "2022-06-02T02:05:01.704571Z",
     "iopub.status.busy": "2022-06-02T02:05:01.703940Z",
     "iopub.status.idle": "2022-06-02T02:05:01.719992Z",
     "shell.execute_reply": "2022-06-02T02:05:01.719034Z"
    },
    "papermill": {
     "duration": 0.038435,
     "end_time": "2022-06-02T02:05:01.723221",
     "exception": false,
     "start_time": "2022-06-02T02:05:01.684786",
     "status": "completed"
    },
    "tags": []
   },
   "outputs": [
    {
     "name": "stdout",
     "output_type": "stream",
     "text": [
      "[accuracy] tr: 0.75, va: 0.73\n"
     ]
    }
   ],
   "source": [
    "y_tr_pred = model.predict_proba(x_tr)[:,1]\n",
    "y_va_pred = model.predict_proba(x_va)[:,1]\n",
    "\n",
    "metric_tr = accuracy_score(y_tr, np.where(y_tr_pred>=0.5, 1, 0))\n",
    "metric_va = accuracy_score(y_va, np.where(y_va_pred>=0.5, 1, 0))\n",
    "\n",
    "print(\"[accuracy] tr: {:.2f}, va: {:.2f}\".format(metric_tr, metric_va))"
   ]
  },
  {
   "cell_type": "markdown",
   "id": "4495ad9b",
   "metadata": {
    "papermill": {
     "duration": 0.017796,
     "end_time": "2022-06-02T02:05:01.760666",
     "exception": false,
     "start_time": "2022-06-02T02:05:01.742870",
     "status": "completed"
    },
    "tags": []
   },
   "source": [
    "#### スクリプト4-14: 説明変数の重要度の算出"
   ]
  },
  {
   "cell_type": "code",
   "execution_count": 16,
   "id": "a283f2c3",
   "metadata": {
    "execution": {
     "iopub.execute_input": "2022-06-02T02:05:01.798877Z",
     "iopub.status.busy": "2022-06-02T02:05:01.798187Z",
     "iopub.status.idle": "2022-06-02T02:05:01.810782Z",
     "shell.execute_reply": "2022-06-02T02:05:01.809804Z"
    },
    "papermill": {
     "duration": 0.033778,
     "end_time": "2022-06-02T02:05:01.812784",
     "exception": false,
     "start_time": "2022-06-02T02:05:01.779006",
     "status": "completed"
    },
    "tags": []
   },
   "outputs": [
    {
     "data": {
      "text/html": [
       "<div>\n",
       "<style scoped>\n",
       "    .dataframe tbody tr th:only-of-type {\n",
       "        vertical-align: middle;\n",
       "    }\n",
       "\n",
       "    .dataframe tbody tr th {\n",
       "        vertical-align: top;\n",
       "    }\n",
       "\n",
       "    .dataframe thead th {\n",
       "        text-align: right;\n",
       "    }\n",
       "</style>\n",
       "<table border=\"1\" class=\"dataframe\">\n",
       "  <thead>\n",
       "    <tr style=\"text-align: right;\">\n",
       "      <th></th>\n",
       "      <th>col</th>\n",
       "      <th>imp</th>\n",
       "    </tr>\n",
       "  </thead>\n",
       "  <tbody>\n",
       "    <tr>\n",
       "      <th>0</th>\n",
       "      <td>Fare</td>\n",
       "      <td>903.440373</td>\n",
       "    </tr>\n",
       "    <tr>\n",
       "      <th>1</th>\n",
       "      <td>Pclass</td>\n",
       "      <td>229.457186</td>\n",
       "    </tr>\n",
       "  </tbody>\n",
       "</table>\n",
       "</div>"
      ],
      "text/plain": [
       "      col         imp\n",
       "0    Fare  903.440373\n",
       "1  Pclass  229.457186"
      ]
     },
     "execution_count": 16,
     "metadata": {},
     "output_type": "execute_result"
    }
   ],
   "source": [
    "imp = pd.DataFrame({\"col\":x_train.columns, \"imp\":model.feature_importances_})\n",
    "imp.sort_values(\"imp\", ascending=False, ignore_index=True)"
   ]
  },
  {
   "cell_type": "markdown",
   "id": "c54a3ed0",
   "metadata": {
    "papermill": {
     "duration": 0.017793,
     "end_time": "2022-06-02T02:05:01.848466",
     "exception": false,
     "start_time": "2022-06-02T02:05:01.830673",
     "status": "completed"
    },
    "tags": []
   },
   "source": [
    "## 4.7.2 クロスバリデーションの場合\n",
    "#### スクリプト4-15: モデル学習の実行（クロスバリデーションの場合）"
   ]
  },
  {
   "cell_type": "code",
   "execution_count": 17,
   "id": "3ab8a087",
   "metadata": {
    "execution": {
     "iopub.execute_input": "2022-06-02T02:05:01.886918Z",
     "iopub.status.busy": "2022-06-02T02:05:01.885746Z",
     "iopub.status.idle": "2022-06-02T02:05:02.382738Z",
     "shell.execute_reply": "2022-06-02T02:05:02.381317Z"
    },
    "papermill": {
     "duration": 0.519075,
     "end_time": "2022-06-02T02:05:02.385695",
     "exception": false,
     "start_time": "2022-06-02T02:05:01.866620",
     "status": "completed"
    },
    "tags": []
   },
   "outputs": [
    {
     "name": "stdout",
     "output_type": "stream",
     "text": [
      "-------------------- 0 --------------------\n",
      "(712, 2) (712, 1)\n",
      "(179, 2) (179, 1)\n",
      "y_train:0.384, y_tr:0.383, y_va:0.385\n",
      "Training until validation scores don't improve for 100 rounds\n",
      "[100]\ttraining's auc: 0.844961\tvalid_1's auc: 0.716469\n",
      "Early stopping, best iteration is:\n",
      "[12]\ttraining's auc: 0.793779\tvalid_1's auc: 0.740382\n",
      "[accuracy] tr: 0.72, va: 0.68\n",
      "-------------------- 1 --------------------\n",
      "(713, 2) (713, 1)\n",
      "(178, 2) (178, 1)\n",
      "y_train:0.384, y_tr:0.384, y_va:0.382\n",
      "Training until validation scores don't improve for 100 rounds\n",
      "[100]\ttraining's auc: 0.826717\tvalid_1's auc: 0.753008\n",
      "Early stopping, best iteration is:\n",
      "[26]\ttraining's auc: 0.807006\tvalid_1's auc: 0.757219\n",
      "[accuracy] tr: 0.75, va: 0.68\n",
      "-------------------- 2 --------------------\n",
      "(713, 2) (713, 1)\n",
      "(178, 2) (178, 1)\n",
      "y_train:0.384, y_tr:0.384, y_va:0.382\n",
      "Training until validation scores don't improve for 100 rounds\n",
      "[100]\ttraining's auc: 0.839483\tvalid_1's auc: 0.732687\n",
      "[200]\ttraining's auc: 0.849542\tvalid_1's auc: 0.737233\n",
      "Early stopping, best iteration is:\n",
      "[191]\ttraining's auc: 0.849143\tvalid_1's auc: 0.739906\n",
      "[accuracy] tr: 0.77, va: 0.69\n",
      "-------------------- 3 --------------------\n",
      "(713, 2) (713, 1)\n",
      "(178, 2) (178, 1)\n",
      "y_train:0.384, y_tr:0.384, y_va:0.382\n",
      "Training until validation scores don't improve for 100 rounds\n",
      "[100]\ttraining's auc: 0.831826\tvalid_1's auc: 0.752941\n",
      "Early stopping, best iteration is:\n",
      "[28]\ttraining's auc: 0.808756\tvalid_1's auc: 0.757821\n",
      "[accuracy] tr: 0.75, va: 0.69\n",
      "-------------------- 4 --------------------\n",
      "(713, 2) (713, 1)\n",
      "(178, 2) (178, 1)\n",
      "y_train:0.384, y_tr:0.383, y_va:0.388\n",
      "Training until validation scores don't improve for 100 rounds\n",
      "[100]\ttraining's auc: 0.835177\tvalid_1's auc: 0.735607\n",
      "Early stopping, best iteration is:\n",
      "[3]\ttraining's auc: 0.759844\tvalid_1's auc: 0.759673\n",
      "[accuracy] tr: 0.62, va: 0.61\n",
      "-------------------- result --------------------\n",
      "[[0.         0.72050562 0.67597765]\n",
      " [1.         0.75175316 0.67977528]\n",
      " [2.         0.7713885  0.68539326]\n",
      " [3.         0.74614306 0.69101124]\n",
      " [4.         0.6171108  0.61235955]]\n",
      "[cv ] tr: 0.72+-0.05, va: 0.67+-0.03\n",
      "Done.\n"
     ]
    }
   ],
   "source": [
    "params = {\n",
    "    'boosting_type': 'gbdt',\n",
    "    'objective': 'binary', \n",
    "    'metric': 'auc',\n",
    "    'learning_rate': 0.1,\n",
    "    'num_leaves': 16,\n",
    "    'n_estimators': 100000,\n",
    "    \"random_state\": 123,\n",
    "    \"importance_type\": \"gain\",\n",
    "}\n",
    "    \n",
    "metrics = []\n",
    "imp = pd.DataFrame()\n",
    "\n",
    "n_splits = 5\n",
    "cv = list(StratifiedKFold(n_splits=n_splits, shuffle=True, random_state=123).split(x_train, y_train))\n",
    "\n",
    "for nfold in np.arange(n_splits):\n",
    "    print(\"-\"*20, nfold, \"-\"*20)\n",
    "    idx_tr, idx_va = cv[nfold][0], cv[nfold][1]\n",
    "    x_tr, y_tr = x_train.loc[idx_tr, :], y_train.loc[idx_tr, :]\n",
    "    x_va, y_va = x_train.loc[idx_va, :], y_train.loc[idx_va, :]\n",
    "    print(x_tr.shape, y_tr.shape)\n",
    "    print(x_va.shape, y_va.shape)\n",
    "    print(\"y_train:{:.3f}, y_tr:{:.3f}, y_va:{:.3f}\".format(\n",
    "        y_train[\"Survived\"].mean(),\n",
    "        y_tr[\"Survived\"].mean(),\n",
    "        y_va[\"Survived\"].mean(),\n",
    "    ))\n",
    "    \n",
    "    model = lgb.LGBMClassifier(**params)\n",
    "    model.fit(x_tr,\n",
    "              y_tr,\n",
    "              eval_set=[(x_tr,y_tr), (x_va,y_va)],\n",
    "              early_stopping_rounds=100,\n",
    "              verbose=100,\n",
    "             )\n",
    "\n",
    "    y_tr_pred = model.predict(x_tr)\n",
    "    y_va_pred = model.predict(x_va)\n",
    "    metric_tr = accuracy_score(y_tr, y_tr_pred)\n",
    "    metric_va = accuracy_score(y_va, y_va_pred)\n",
    "    print(\"[accuracy] tr: {:.2f}, va: {:.2f}\".format(metric_tr, metric_va))    \n",
    "    metrics.append([nfold, metric_tr, metric_va])\n",
    "    \n",
    "    _imp = pd.DataFrame({\"col\":x_train.columns, \"imp\":model.feature_importances_, \"nfold\":nfold})\n",
    "    imp = pd.concat([imp, _imp], axis=0, ignore_index=True)\n",
    "\n",
    "print(\"-\"*20, \"result\", \"-\"*20)\n",
    "metrics = np.array(metrics)\n",
    "print(metrics)\n",
    "\n",
    "print(\"[cv ] tr: {:.2f}+-{:.2f}, va: {:.2f}+-{:.2f}\".format(\n",
    "    metrics[:,1].mean(), metrics[:,1].std(),\n",
    "    metrics[:,2].mean(), metrics[:,2].std(),\n",
    "))\n",
    "\n",
    "imp = imp.groupby(\"col\")[\"imp\"].agg([\"mean\", \"std\"])\n",
    "imp.columns = [\"imp\", \"imp_std\"]\n",
    "imp = imp.reset_index(drop=False)\n",
    "\n",
    "print(\"Done.\")"
   ]
  },
  {
   "cell_type": "markdown",
   "id": "38c5822c",
   "metadata": {
    "papermill": {
     "duration": 0.018228,
     "end_time": "2022-06-02T02:05:02.422224",
     "exception": false,
     "start_time": "2022-06-02T02:05:02.403996",
     "status": "completed"
    },
    "tags": []
   },
   "source": [
    "#### スクリプト4-16: 説明変数の重要度の算出"
   ]
  },
  {
   "cell_type": "code",
   "execution_count": 18,
   "id": "9a360721",
   "metadata": {
    "execution": {
     "iopub.execute_input": "2022-06-02T02:05:02.461102Z",
     "iopub.status.busy": "2022-06-02T02:05:02.460370Z",
     "iopub.status.idle": "2022-06-02T02:05:02.471618Z",
     "shell.execute_reply": "2022-06-02T02:05:02.470719Z"
    },
    "papermill": {
     "duration": 0.032922,
     "end_time": "2022-06-02T02:05:02.473601",
     "exception": false,
     "start_time": "2022-06-02T02:05:02.440679",
     "status": "completed"
    },
    "tags": []
   },
   "outputs": [
    {
     "data": {
      "text/html": [
       "<div>\n",
       "<style scoped>\n",
       "    .dataframe tbody tr th:only-of-type {\n",
       "        vertical-align: middle;\n",
       "    }\n",
       "\n",
       "    .dataframe tbody tr th {\n",
       "        vertical-align: top;\n",
       "    }\n",
       "\n",
       "    .dataframe thead th {\n",
       "        text-align: right;\n",
       "    }\n",
       "</style>\n",
       "<table border=\"1\" class=\"dataframe\">\n",
       "  <thead>\n",
       "    <tr style=\"text-align: right;\">\n",
       "      <th></th>\n",
       "      <th>col</th>\n",
       "      <th>imp</th>\n",
       "      <th>imp_std</th>\n",
       "    </tr>\n",
       "  </thead>\n",
       "  <tbody>\n",
       "    <tr>\n",
       "      <th>0</th>\n",
       "      <td>Fare</td>\n",
       "      <td>679.390270</td>\n",
       "      <td>356.992896</td>\n",
       "    </tr>\n",
       "    <tr>\n",
       "      <th>1</th>\n",
       "      <td>Pclass</td>\n",
       "      <td>291.704529</td>\n",
       "      <td>138.843896</td>\n",
       "    </tr>\n",
       "  </tbody>\n",
       "</table>\n",
       "</div>"
      ],
      "text/plain": [
       "      col         imp     imp_std\n",
       "0    Fare  679.390270  356.992896\n",
       "1  Pclass  291.704529  138.843896"
      ]
     },
     "execution_count": 18,
     "metadata": {},
     "output_type": "execute_result"
    }
   ],
   "source": [
    "imp.sort_values(\"imp\", ascending=False, ignore_index=True)"
   ]
  },
  {
   "cell_type": "markdown",
   "id": "2a26ac2a",
   "metadata": {
    "papermill": {
     "duration": 0.018431,
     "end_time": "2022-06-02T02:05:02.510282",
     "exception": false,
     "start_time": "2022-06-02T02:05:02.491851",
     "status": "completed"
    },
    "tags": []
   },
   "source": [
    "## 4.7.3 ベースラインの評価\n",
    "#### スクリプト4-17: ベースライン検証用データの作成"
   ]
  },
  {
   "cell_type": "code",
   "execution_count": 19,
   "id": "67c9daf2",
   "metadata": {
    "execution": {
     "iopub.execute_input": "2022-06-02T02:05:02.549392Z",
     "iopub.status.busy": "2022-06-02T02:05:02.548634Z",
     "iopub.status.idle": "2022-06-02T02:05:02.564972Z",
     "shell.execute_reply": "2022-06-02T02:05:02.564049Z"
    },
    "papermill": {
     "duration": 0.039662,
     "end_time": "2022-06-02T02:05:02.568408",
     "exception": false,
     "start_time": "2022-06-02T02:05:02.528746",
     "status": "completed"
    },
    "tags": []
   },
   "outputs": [
    {
     "name": "stdout",
     "output_type": "stream",
     "text": [
      "(712, 2) (712, 1)\n",
      "(179, 2) (179, 1)\n"
     ]
    }
   ],
   "source": [
    "x_tr, x_va2, y_tr, y_va2 = train_test_split(x_train,\n",
    "                                            y_train,\n",
    "                                            test_size=0.2,\n",
    "                                            shuffle=True,\n",
    "                                            stratify=y_train,\n",
    "                                            random_state=123)\n",
    "print(x_tr.shape, y_tr.shape)\n",
    "print(x_va2.shape, y_va2.shape)"
   ]
  },
  {
   "cell_type": "markdown",
   "id": "a0c21cac",
   "metadata": {
    "papermill": {
     "duration": 0.018459,
     "end_time": "2022-06-02T02:05:02.606354",
     "exception": false,
     "start_time": "2022-06-02T02:05:02.587895",
     "status": "completed"
    },
    "tags": []
   },
   "source": [
    "#### スクリプト4-18: 学習データと検証データの分割（ホールドアウト検証）"
   ]
  },
  {
   "cell_type": "code",
   "execution_count": 20,
   "id": "4f176438",
   "metadata": {
    "execution": {
     "iopub.execute_input": "2022-06-02T02:05:02.645724Z",
     "iopub.status.busy": "2022-06-02T02:05:02.644956Z",
     "iopub.status.idle": "2022-06-02T02:05:02.660145Z",
     "shell.execute_reply": "2022-06-02T02:05:02.658707Z"
    },
    "papermill": {
     "duration": 0.037957,
     "end_time": "2022-06-02T02:05:02.662974",
     "exception": false,
     "start_time": "2022-06-02T02:05:02.625017",
     "status": "completed"
    },
    "tags": []
   },
   "outputs": [
    {
     "name": "stdout",
     "output_type": "stream",
     "text": [
      "(569, 2) (569, 1)\n",
      "(143, 2) (143, 1)\n"
     ]
    }
   ],
   "source": [
    "x_tr1, x_va1, y_tr1, y_va1 = train_test_split(x_tr,\n",
    "                                              y_tr,\n",
    "                                              test_size=0.2,\n",
    "                                              shuffle=True,\n",
    "                                              stratify=y_tr,\n",
    "                                              random_state=789)\n",
    "print(x_tr1.shape, y_tr1.shape)\n",
    "print(x_va1.shape, y_va1.shape)"
   ]
  },
  {
   "cell_type": "markdown",
   "id": "b2300d12",
   "metadata": {
    "papermill": {
     "duration": 0.018771,
     "end_time": "2022-06-02T02:05:02.701005",
     "exception": false,
     "start_time": "2022-06-02T02:05:02.682234",
     "status": "completed"
    },
    "tags": []
   },
   "source": [
    "#### スクリプト4-19: モデル学習（ホールドアウト検証）"
   ]
  },
  {
   "cell_type": "code",
   "execution_count": 21,
   "id": "d0d5dfa0",
   "metadata": {
    "execution": {
     "iopub.execute_input": "2022-06-02T02:05:02.740218Z",
     "iopub.status.busy": "2022-06-02T02:05:02.739782Z",
     "iopub.status.idle": "2022-06-02T02:05:02.810703Z",
     "shell.execute_reply": "2022-06-02T02:05:02.809021Z"
    },
    "papermill": {
     "duration": 0.093846,
     "end_time": "2022-06-02T02:05:02.813521",
     "exception": false,
     "start_time": "2022-06-02T02:05:02.719675",
     "status": "completed"
    },
    "tags": []
   },
   "outputs": [
    {
     "name": "stdout",
     "output_type": "stream",
     "text": [
      "Training until validation scores don't improve for 100 rounds\n",
      "[10]\ttraining's auc: 0.792153\tvalid_1's auc: 0.72562\n",
      "[20]\ttraining's auc: 0.810025\tvalid_1's auc: 0.712087\n",
      "[30]\ttraining's auc: 0.822545\tvalid_1's auc: 0.72376\n",
      "[40]\ttraining's auc: 0.829204\tvalid_1's auc: 0.719421\n",
      "[50]\ttraining's auc: 0.836699\tvalid_1's auc: 0.720455\n",
      "[60]\ttraining's auc: 0.841808\tvalid_1's auc: 0.716322\n",
      "[70]\ttraining's auc: 0.84684\tvalid_1's auc: 0.71281\n",
      "[80]\ttraining's auc: 0.851009\tvalid_1's auc: 0.716529\n",
      "[90]\ttraining's auc: 0.85472\tvalid_1's auc: 0.720041\n",
      "[100]\ttraining's auc: 0.856354\tvalid_1's auc: 0.722934\n",
      "Early stopping, best iteration is:\n",
      "[7]\ttraining's auc: 0.787396\tvalid_1's auc: 0.729545\n"
     ]
    },
    {
     "data": {
      "text/html": [
       "<style>#sk-container-id-2 {color: black;background-color: white;}#sk-container-id-2 pre{padding: 0;}#sk-container-id-2 div.sk-toggleable {background-color: white;}#sk-container-id-2 label.sk-toggleable__label {cursor: pointer;display: block;width: 100%;margin-bottom: 0;padding: 0.3em;box-sizing: border-box;text-align: center;}#sk-container-id-2 label.sk-toggleable__label-arrow:before {content: \"▸\";float: left;margin-right: 0.25em;color: #696969;}#sk-container-id-2 label.sk-toggleable__label-arrow:hover:before {color: black;}#sk-container-id-2 div.sk-estimator:hover label.sk-toggleable__label-arrow:before {color: black;}#sk-container-id-2 div.sk-toggleable__content {max-height: 0;max-width: 0;overflow: hidden;text-align: left;background-color: #f0f8ff;}#sk-container-id-2 div.sk-toggleable__content pre {margin: 0.2em;color: black;border-radius: 0.25em;background-color: #f0f8ff;}#sk-container-id-2 input.sk-toggleable__control:checked~div.sk-toggleable__content {max-height: 200px;max-width: 100%;overflow: auto;}#sk-container-id-2 input.sk-toggleable__control:checked~label.sk-toggleable__label-arrow:before {content: \"▾\";}#sk-container-id-2 div.sk-estimator input.sk-toggleable__control:checked~label.sk-toggleable__label {background-color: #d4ebff;}#sk-container-id-2 div.sk-label input.sk-toggleable__control:checked~label.sk-toggleable__label {background-color: #d4ebff;}#sk-container-id-2 input.sk-hidden--visually {border: 0;clip: rect(1px 1px 1px 1px);clip: rect(1px, 1px, 1px, 1px);height: 1px;margin: -1px;overflow: hidden;padding: 0;position: absolute;width: 1px;}#sk-container-id-2 div.sk-estimator {font-family: monospace;background-color: #f0f8ff;border: 1px dotted black;border-radius: 0.25em;box-sizing: border-box;margin-bottom: 0.5em;}#sk-container-id-2 div.sk-estimator:hover {background-color: #d4ebff;}#sk-container-id-2 div.sk-parallel-item::after {content: \"\";width: 100%;border-bottom: 1px solid gray;flex-grow: 1;}#sk-container-id-2 div.sk-label:hover label.sk-toggleable__label {background-color: #d4ebff;}#sk-container-id-2 div.sk-serial::before {content: \"\";position: absolute;border-left: 1px solid gray;box-sizing: border-box;top: 0;bottom: 0;left: 50%;z-index: 0;}#sk-container-id-2 div.sk-serial {display: flex;flex-direction: column;align-items: center;background-color: white;padding-right: 0.2em;padding-left: 0.2em;position: relative;}#sk-container-id-2 div.sk-item {position: relative;z-index: 1;}#sk-container-id-2 div.sk-parallel {display: flex;align-items: stretch;justify-content: center;background-color: white;position: relative;}#sk-container-id-2 div.sk-item::before, #sk-container-id-2 div.sk-parallel-item::before {content: \"\";position: absolute;border-left: 1px solid gray;box-sizing: border-box;top: 0;bottom: 0;left: 50%;z-index: -1;}#sk-container-id-2 div.sk-parallel-item {display: flex;flex-direction: column;z-index: 1;position: relative;background-color: white;}#sk-container-id-2 div.sk-parallel-item:first-child::after {align-self: flex-end;width: 50%;}#sk-container-id-2 div.sk-parallel-item:last-child::after {align-self: flex-start;width: 50%;}#sk-container-id-2 div.sk-parallel-item:only-child::after {width: 0;}#sk-container-id-2 div.sk-dashed-wrapped {border: 1px dashed gray;margin: 0 0.4em 0.5em 0.4em;box-sizing: border-box;padding-bottom: 0.4em;background-color: white;}#sk-container-id-2 div.sk-label label {font-family: monospace;font-weight: bold;display: inline-block;line-height: 1.2em;}#sk-container-id-2 div.sk-label-container {text-align: center;}#sk-container-id-2 div.sk-container {/* jupyter's `normalize.less` sets `[hidden] { display: none; }` but bootstrap.min.css set `[hidden] { display: none !important; }` so we also need the `!important` here to be able to override the default hidden behavior on the sphinx rendered scikit-learn.org. See: https://github.com/scikit-learn/scikit-learn/issues/21755 */display: inline-block !important;position: relative;}#sk-container-id-2 div.sk-text-repr-fallback {display: none;}</style><div id=\"sk-container-id-2\" class=\"sk-top-container\"><div class=\"sk-text-repr-fallback\"><pre>LGBMClassifier(importance_type=&#x27;gain&#x27;, metric=&#x27;auc&#x27;, n_estimators=100000,\n",
       "               num_leaves=16, objective=&#x27;binary&#x27;, random_state=123)</pre><b>In a Jupyter environment, please rerun this cell to show the HTML representation or trust the notebook. <br />On GitHub, the HTML representation is unable to render, please try loading this page with nbviewer.org.</b></div><div class=\"sk-container\" hidden><div class=\"sk-item\"><div class=\"sk-estimator sk-toggleable\"><input class=\"sk-toggleable__control sk-hidden--visually\" id=\"sk-estimator-id-2\" type=\"checkbox\" checked><label for=\"sk-estimator-id-2\" class=\"sk-toggleable__label sk-toggleable__label-arrow\">LGBMClassifier</label><div class=\"sk-toggleable__content\"><pre>LGBMClassifier(importance_type=&#x27;gain&#x27;, metric=&#x27;auc&#x27;, n_estimators=100000,\n",
       "               num_leaves=16, objective=&#x27;binary&#x27;, random_state=123)</pre></div></div></div></div></div>"
      ],
      "text/plain": [
       "LGBMClassifier(importance_type='gain', metric='auc', n_estimators=100000,\n",
       "               num_leaves=16, objective='binary', random_state=123)"
      ]
     },
     "execution_count": 21,
     "metadata": {},
     "output_type": "execute_result"
    }
   ],
   "source": [
    "params = {\n",
    "    'boosting_type': 'gbdt',\n",
    "    'objective': 'binary', \n",
    "    'metric': 'auc',\n",
    "    'learning_rate': 0.1,\n",
    "    'num_leaves': 16,\n",
    "    'n_estimators': 100000,\n",
    "    \"random_state\": 123,\n",
    "    \"importance_type\": \"gain\",\n",
    "}\n",
    "model = lgb.LGBMClassifier(**params)\n",
    "model.fit(x_tr1,\n",
    "          y_tr1,\n",
    "          eval_set=[(x_tr1,y_tr1), (x_va1,y_va1)],\n",
    "          early_stopping_rounds=100,\n",
    "          verbose=10,\n",
    "         )"
   ]
  },
  {
   "cell_type": "markdown",
   "id": "7203f522",
   "metadata": {
    "papermill": {
     "duration": 0.018767,
     "end_time": "2022-06-02T02:05:02.853316",
     "exception": false,
     "start_time": "2022-06-02T02:05:02.834549",
     "status": "completed"
    },
    "tags": []
   },
   "source": [
    "#### スクリプト4-20: 検証データとベースライン検証用データの予測値算出"
   ]
  },
  {
   "cell_type": "code",
   "execution_count": null,
   "id": "68717b3c",
   "metadata": {
    "execution": {
     "iopub.execute_input": "2022-06-02T02:05:02.893429Z",
     "iopub.status.busy": "2022-06-02T02:05:02.892991Z",
     "iopub.status.idle": "2022-06-02T02:05:02.903663Z",
     "shell.execute_reply": "2022-06-02T02:05:02.902920Z"
    },
    "papermill": {
     "duration": 0.033358,
     "end_time": "2022-06-02T02:05:02.905806",
     "exception": false,
     "start_time": "2022-06-02T02:05:02.872448",
     "status": "completed"
    },
    "tags": []
   },
   "outputs": [
    {
     "ename": "",
     "evalue": "",
     "output_type": "error",
     "traceback": [
      "\u001b[1;31m'Python 3.10.3 64-bit ('3.10.3')' を使用した実行中のセルには ipykernel パッケージが必要です。\n",
      "\u001b[1;31m次のコマンドを実行して、'ipykernel' を Python 環境にインストールします。\n",
      "\u001b[1;31mコマンド: '/Users/mitsutaka/.pyenv/versions/3.10.3/bin/python -m pip install ipykernel -U --force-reinstall'"
     ]
    }
   ],
   "source": [
    "y_va1_pred = model.predict(x_va1)\n",
    "y_va2_pred = model.predict(x_va2)"
   ]
  },
  {
   "cell_type": "markdown",
   "id": "90ae41f5",
   "metadata": {
    "papermill": {
     "duration": 0.018643,
     "end_time": "2022-06-02T02:05:02.946890",
     "exception": false,
     "start_time": "2022-06-02T02:05:02.928247",
     "status": "completed"
    },
    "tags": []
   },
   "source": [
    "#### スクリプト4-21: モデル精度の比較"
   ]
  },
  {
   "cell_type": "code",
   "execution_count": null,
   "id": "23b9bec9",
   "metadata": {
    "execution": {
     "iopub.execute_input": "2022-06-02T02:05:02.987022Z",
     "iopub.status.busy": "2022-06-02T02:05:02.986551Z",
     "iopub.status.idle": "2022-06-02T02:05:02.995241Z",
     "shell.execute_reply": "2022-06-02T02:05:02.993570Z"
    },
    "papermill": {
     "duration": 0.03197,
     "end_time": "2022-06-02T02:05:02.997999",
     "exception": false,
     "start_time": "2022-06-02T02:05:02.966029",
     "status": "completed"
    },
    "tags": []
   },
   "outputs": [
    {
     "ename": "",
     "evalue": "",
     "output_type": "error",
     "traceback": [
      "\u001b[1;31m'Python 3.10.3 64-bit ('3.10.3')' を使用した実行中のセルには ipykernel パッケージが必要です。\n",
      "\u001b[1;31m次のコマンドを実行して、'ipykernel' を Python 環境にインストールします。\n",
      "\u001b[1;31mコマンド: '/Users/mitsutaka/.pyenv/versions/3.10.3/bin/python -m pip install ipykernel -U --force-reinstall'"
     ]
    }
   ],
   "source": [
    "print(\"[検証データ] acc: {:.4f}\".format(accuracy_score(y_va1, y_va1_pred)))\n",
    "print(\"[ベースライン検証用データ] acc: {:.4f}\".format(accuracy_score(y_va2, y_va2_pred)))"
   ]
  },
  {
   "cell_type": "markdown",
   "id": "86a8e89f",
   "metadata": {
    "papermill": {
     "duration": 0.018816,
     "end_time": "2022-06-02T02:05:03.036420",
     "exception": false,
     "start_time": "2022-06-02T02:05:03.017604",
     "status": "completed"
    },
    "tags": []
   },
   "source": [
    "#### スクリプト4-22: 誤差分布の比較"
   ]
  },
  {
   "cell_type": "code",
   "execution_count": null,
   "id": "172765ea",
   "metadata": {
    "execution": {
     "iopub.execute_input": "2022-06-02T02:05:03.076574Z",
     "iopub.status.busy": "2022-06-02T02:05:03.075683Z",
     "iopub.status.idle": "2022-06-02T02:05:03.087266Z",
     "shell.execute_reply": "2022-06-02T02:05:03.085680Z"
    },
    "papermill": {
     "duration": 0.033927,
     "end_time": "2022-06-02T02:05:03.089362",
     "exception": false,
     "start_time": "2022-06-02T02:05:03.055435",
     "status": "completed"
    },
    "tags": []
   },
   "outputs": [
    {
     "ename": "",
     "evalue": "",
     "output_type": "error",
     "traceback": [
      "\u001b[1;31m'Python 3.10.3 64-bit ('3.10.3')' を使用した実行中のセルには ipykernel パッケージが必要です。\n",
      "\u001b[1;31m次のコマンドを実行して、'ipykernel' を Python 環境にインストールします。\n",
      "\u001b[1;31mコマンド: '/Users/mitsutaka/.pyenv/versions/3.10.3/bin/python -m pip install ipykernel -U --force-reinstall'"
     ]
    }
   ],
   "source": [
    "print(\"検証データ\")\n",
    "print(confusion_matrix(y_va1, y_va1_pred))\n",
    "print(confusion_matrix(y_va1, y_va1_pred, normalize=\"all\"))\n",
    "print(\"ベースライン検証用データ\")\n",
    "print(confusion_matrix(y_va2, y_va2_pred))\n",
    "print(confusion_matrix(y_va2, y_va2_pred, normalize=\"all\"))"
   ]
  },
  {
   "cell_type": "markdown",
   "id": "37af6bc6",
   "metadata": {
    "papermill": {
     "duration": 0.018769,
     "end_time": "2022-06-02T02:05:03.127174",
     "exception": false,
     "start_time": "2022-06-02T02:05:03.108405",
     "status": "completed"
    },
    "tags": []
   },
   "source": [
    "#### スクリプト4-23: 予測値の分布比較"
   ]
  },
  {
   "cell_type": "code",
   "execution_count": 22,
   "id": "c19b7cb9",
   "metadata": {
    "execution": {
     "iopub.execute_input": "2022-06-02T02:05:03.167356Z",
     "iopub.status.busy": "2022-06-02T02:05:03.166629Z",
     "iopub.status.idle": "2022-06-02T02:05:03.628582Z",
     "shell.execute_reply": "2022-06-02T02:05:03.627786Z"
    },
    "papermill": {
     "duration": 0.484369,
     "end_time": "2022-06-02T02:05:03.630578",
     "exception": false,
     "start_time": "2022-06-02T02:05:03.146209",
     "status": "completed"
    },
    "tags": []
   },
   "outputs": [
    {
     "data": {
      "text/plain": [
       "<matplotlib.legend.Legend at 0x7f83431c0d00>"
      ]
     },
     "execution_count": 22,
     "metadata": {},
     "output_type": "execute_result"
    },
    {
     "data": {
      "image/png": "[encoded data removed]",
      "text/plain": [
       "<Figure size 720x576 with 2 Axes>"
      ]
     },
     "metadata": {
      "needs_background": "light"
     },
     "output_type": "display_data"
    }
   ],
   "source": [
    "# 予測値の確率値算出\n",
    "y_va1_pred_prob = model.predict_proba(x_va1)[:,1]\n",
    "y_va2_pred_prob = model.predict_proba(x_va2)[:,1]\n",
    "\n",
    "# 確率値をヒストグラムで可視化\n",
    "fig = plt.figure(figsize=(10,8))\n",
    "# 検証データ\n",
    "fig.add_subplot(2,1,1)\n",
    "plt.title(\"検証データ\")\n",
    "plt.hist(y_va1_pred_prob[np.array(y_va1).reshape(-1)==1], bins=10, alpha=0.5, label=\"1\")\n",
    "plt.hist(y_va1_pred_prob[np.array(y_va1).reshape(-1)==0], bins=10, alpha=0.5, label=\"0\")\n",
    "plt.grid()\n",
    "plt.legend()\n",
    "# ベースライン検証用データ\n",
    "fig.add_subplot(2,1,2)\n",
    "plt.title(\"ベースライン検証用データ\")\n",
    "plt.hist(y_va2_pred_prob[np.array(y_va2).reshape(-1)==1], bins=10, alpha=0.5, label=\"1\")\n",
    "plt.hist(y_va2_pred_prob[np.array(y_va2).reshape(-1)==0], bins=10, alpha=0.5, label=\"0\")\n",
    "plt.grid()\n",
    "plt.legend()"
   ]
  },
  {
   "cell_type": "markdown",
   "id": "6ace778e",
   "metadata": {
    "papermill": {
     "duration": 0.019214,
     "end_time": "2022-06-02T02:05:03.669606",
     "exception": false,
     "start_time": "2022-06-02T02:05:03.650392",
     "status": "completed"
    },
    "tags": []
   },
   "source": [
    "# 4.8 モデル推論\n",
    "## 4.8.1 推論データセット作成\n",
    "#### スクリプト4-24: 推論用データセットの作成"
   ]
  },
  {
   "cell_type": "code",
   "execution_count": 23,
   "id": "784d0ce6",
   "metadata": {
    "execution": {
     "iopub.execute_input": "2022-06-02T02:05:03.711738Z",
     "iopub.status.busy": "2022-06-02T02:05:03.710591Z",
     "iopub.status.idle": "2022-06-02T02:05:03.727242Z",
     "shell.execute_reply": "2022-06-02T02:05:03.726150Z"
    },
    "papermill": {
     "duration": 0.040372,
     "end_time": "2022-06-02T02:05:03.729774",
     "exception": false,
     "start_time": "2022-06-02T02:05:03.689402",
     "status": "completed"
    },
    "tags": []
   },
   "outputs": [],
   "source": [
    "df_test = pd.read_csv(\"../input/titanic/test.csv\")\n",
    "x_test = df_test[[\"Pclass\", \"Fare\"]]\n",
    "id_test = df_test[[\"PassengerId\"]]"
   ]
  },
  {
   "cell_type": "markdown",
   "id": "bdb397bf",
   "metadata": {
    "papermill": {
     "duration": 0.019681,
     "end_time": "2022-06-02T02:05:03.770330",
     "exception": false,
     "start_time": "2022-06-02T02:05:03.750649",
     "status": "completed"
    },
    "tags": []
   },
   "source": [
    "## 4.8.2 学習済モデルを用いた推論\n",
    "#### スクリプト4-25: 学習モデルによる推論"
   ]
  },
  {
   "cell_type": "code",
   "execution_count": 24,
   "id": "5a20c845",
   "metadata": {
    "execution": {
     "iopub.execute_input": "2022-06-02T02:05:03.813409Z",
     "iopub.status.busy": "2022-06-02T02:05:03.812375Z",
     "iopub.status.idle": "2022-06-02T02:05:03.835188Z",
     "shell.execute_reply": "2022-06-02T02:05:03.829772Z"
    },
    "papermill": {
     "duration": 0.047094,
     "end_time": "2022-06-02T02:05:03.837666",
     "exception": false,
     "start_time": "2022-06-02T02:05:03.790572",
     "status": "completed"
    },
    "tags": []
   },
   "outputs": [],
   "source": [
    "y_test_pred = model.predict(x_test)"
   ]
  },
  {
   "cell_type": "markdown",
   "id": "8805eafb",
   "metadata": {
    "papermill": {
     "duration": 0.019405,
     "end_time": "2022-06-02T02:05:03.877282",
     "exception": false,
     "start_time": "2022-06-02T02:05:03.857877",
     "status": "completed"
    },
    "tags": []
   },
   "source": [
    "#### スクリプト4-26: 提出用ファイルの作成"
   ]
  },
  {
   "cell_type": "code",
   "execution_count": 25,
   "id": "d48d0435",
   "metadata": {
    "execution": {
     "iopub.execute_input": "2022-06-02T02:05:03.919359Z",
     "iopub.status.busy": "2022-06-02T02:05:03.918684Z",
     "iopub.status.idle": "2022-06-02T02:05:03.932778Z",
     "shell.execute_reply": "2022-06-02T02:05:03.931770Z"
    },
    "papermill": {
     "duration": 0.038107,
     "end_time": "2022-06-02T02:05:03.935050",
     "exception": false,
     "start_time": "2022-06-02T02:05:03.896943",
     "status": "completed"
    },
    "tags": []
   },
   "outputs": [
    {
     "data": {
      "text/html": [
       "<div>\n",
       "<style scoped>\n",
       "    .dataframe tbody tr th:only-of-type {\n",
       "        vertical-align: middle;\n",
       "    }\n",
       "\n",
       "    .dataframe tbody tr th {\n",
       "        vertical-align: top;\n",
       "    }\n",
       "\n",
       "    .dataframe thead th {\n",
       "        text-align: right;\n",
       "    }\n",
       "</style>\n",
       "<table border=\"1\" class=\"dataframe\">\n",
       "  <thead>\n",
       "    <tr style=\"text-align: right;\">\n",
       "      <th></th>\n",
       "      <th>PassengerId</th>\n",
       "      <th>Survived</th>\n",
       "    </tr>\n",
       "  </thead>\n",
       "  <tbody>\n",
       "    <tr>\n",
       "      <th>0</th>\n",
       "      <td>892</td>\n",
       "      <td>0</td>\n",
       "    </tr>\n",
       "    <tr>\n",
       "      <th>1</th>\n",
       "      <td>893</td>\n",
       "      <td>0</td>\n",
       "    </tr>\n",
       "    <tr>\n",
       "      <th>2</th>\n",
       "      <td>894</td>\n",
       "      <td>0</td>\n",
       "    </tr>\n",
       "    <tr>\n",
       "      <th>3</th>\n",
       "      <td>895</td>\n",
       "      <td>0</td>\n",
       "    </tr>\n",
       "    <tr>\n",
       "      <th>4</th>\n",
       "      <td>896</td>\n",
       "      <td>0</td>\n",
       "    </tr>\n",
       "  </tbody>\n",
       "</table>\n",
       "</div>"
      ],
      "text/plain": [
       "   PassengerId  Survived\n",
       "0          892         0\n",
       "1          893         0\n",
       "2          894         0\n",
       "3          895         0\n",
       "4          896         0"
      ]
     },
     "metadata": {},
     "output_type": "display_data"
    }
   ],
   "source": [
    "df_submit = pd.DataFrame({\"PassengerId\":id_test[\"PassengerId\"], \"Survived\":y_test_pred})\n",
    "display(df_submit.head(5))\n",
    "df_submit.to_csv(\"submission_baseline.csv\", index=None)"
   ]
  },
  {
   "cell_type": "code",
   "execution_count": null,
   "id": "391a2ea5",
   "metadata": {
    "papermill": {
     "duration": 0.01955,
     "end_time": "2022-06-02T02:05:03.974761",
     "exception": false,
     "start_time": "2022-06-02T02:05:03.955211",
     "status": "completed"
    },
    "tags": []
   },
   "outputs": [],
   "source": []
  }
 ],
 "metadata": {
  "kernelspec": {
   "display_name": "Python 3.9.12 ('ml')",
   "language": "python",
   "name": "python3"
  },
  "language_info": {
   "codemirror_mode": {
    "name": "ipython",
    "version": 3
   },
   "file_extension": ".py",
   "mimetype": "text/x-python",
   "name": "python",
   "nbconvert_exporter": "python",
   "pygments_lexer": "ipython3",
   "version": "3.9.12"
  },
  "papermill": {
   "default_parameters": {},
   "duration": 47.815767,
   "end_time": "2022-06-02T02:05:05.017930",
   "environment_variables": {},
   "exception": null,
   "input_path": "__notebook__.ipynb",
   "output_path": "__notebook__.ipynb",
   "parameters": {},
   "start_time": "2022-06-02T02:04:17.202163",
   "version": "2.3.4"
  },
  "vscode": {
   "interpreter": {
    "hash": "d1612152357e79f9c916b3a51b77abcdc387f0bbb0bcd4e7e5f48748d2f82b34"
   }
  }
 },
 "nbformat": 4,
 "nbformat_minor": 5
}
